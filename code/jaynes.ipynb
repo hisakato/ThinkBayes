%matlotlib inline
%run jaynes.py
